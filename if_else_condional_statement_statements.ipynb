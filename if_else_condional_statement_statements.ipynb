{
  "nbformat": 4,
  "nbformat_minor": 0,
  "metadata": {
    "colab": {
      "provenance": [],
      "authorship_tag": "ABX9TyMUi+23jixpta+GhphatoC5",
      "include_colab_link": true
    },
    "kernelspec": {
      "name": "python3",
      "display_name": "Python 3"
    },
    "language_info": {
      "name": "python"
    }
  },
  "cells": [
    {
      "cell_type": "markdown",
      "metadata": {
        "id": "view-in-github",
        "colab_type": "text"
      },
      "source": [
        "<a href=\"https://colab.research.google.com/github/Farhan-Karim/Python-Basic/blob/main/if_else_condional_statement_statements.ipynb\" target=\"_parent\"><img src=\"https://colab.research.google.com/assets/colab-badge.svg\" alt=\"Open In Colab\"/></a>"
      ]
    },
    {
      "cell_type": "code",
      "execution_count": 1,
      "metadata": {
        "colab": {
          "base_uri": "https://localhost:8080/"
        },
        "id": "0blinYu8yfGL",
        "outputId": "7315640d-9848-4735-c34a-4da6cc778a82"
      },
      "outputs": [
        {
          "output_type": "stream",
          "name": "stdout",
          "text": [
            "Enter your email: campasx@gmail.com\n",
            "Enter your password: 1234\n",
            "Welcome\n"
          ]
        }
      ],
      "source": [
        "email = input(\"Enter your email: \")\n",
        "if \"@\" in email:\n",
        "    password = input(\"Enter your password: \")\n",
        "    # print(\"Enter email in correct format ... : \")\n",
        "\n",
        "    # else:\n",
        "    #     email = input(\"Enter your email again : \")\n",
        "\n",
        "    if email == \"campasx@gmail.com\" and password == \"1234\":\n",
        "        print(\"Welcome\")\n",
        "    elif email == \"campasx@gmail.com\" and password != \"1234\":\n",
        "        print(\"Incorrect Password\")\n",
        "        password = input(\"Enter password Again: \")\n",
        "        if password == \"1234\":\n",
        "            print(\"Finally Correct Password \\n\" + \"Wellcome\")\n",
        "        else:\n",
        "            print(\"Incorrect Password Sorry\")\n",
        "    else:\n",
        "        print(\"Incorrect credentials\")\n",
        "else:\n",
        "    print(\"Incorrect email Sorry ! \")"
      ]
    },
    {
      "cell_type": "code",
      "source": [],
      "metadata": {
        "id": "8BYsPgF8ygwV"
      },
      "execution_count": null,
      "outputs": []
    }
  ]
}